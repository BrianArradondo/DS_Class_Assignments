{
 "cells": [
  {
   "cell_type": "code",
   "execution_count": 1,
   "id": "2ad1c256",
   "metadata": {},
   "outputs": [],
   "source": [
    "import pandas as pd\n",
    "import numpy as np\n",
    "import matplotlib.pyplot as plt\n",
    "from sklearn.preprocessing import StandardScaler\n",
    "from sklearn.cluster import KMeans\n",
    "from sklearn.metrics import silhouette_score\n",
    "import warnings \n",
    "warnings.filterwarnings(\"ignore\")\n",
    "import seaborn as sns"
   ]
  },
  {
   "cell_type": "code",
   "execution_count": 2,
   "id": "206ad7f0",
   "metadata": {},
   "outputs": [],
   "source": [
    "df = pd.read_csv(\"cust_seg.csv\", index_col=0)"
   ]
  },
  {
   "cell_type": "code",
   "execution_count": 3,
   "id": "7e3ab8c1",
   "metadata": {},
   "outputs": [
    {
     "data": {
      "text/html": [
       "<div>\n",
       "<style scoped>\n",
       "    .dataframe tbody tr th:only-of-type {\n",
       "        vertical-align: middle;\n",
       "    }\n",
       "\n",
       "    .dataframe tbody tr th {\n",
       "        vertical-align: top;\n",
       "    }\n",
       "\n",
       "    .dataframe thead th {\n",
       "        text-align: right;\n",
       "    }\n",
       "</style>\n",
       "<table border=\"1\" class=\"dataframe\">\n",
       "  <thead>\n",
       "    <tr style=\"text-align: right;\">\n",
       "      <th></th>\n",
       "      <th>Customer Id</th>\n",
       "      <th>Age</th>\n",
       "      <th>Edu</th>\n",
       "      <th>Years Employed</th>\n",
       "      <th>Income</th>\n",
       "      <th>Card Debt</th>\n",
       "      <th>Other Debt</th>\n",
       "      <th>Defaulted</th>\n",
       "      <th>DebtIncomeRatio</th>\n",
       "    </tr>\n",
       "  </thead>\n",
       "  <tbody>\n",
       "    <tr>\n",
       "      <th>0</th>\n",
       "      <td>1</td>\n",
       "      <td>41</td>\n",
       "      <td>2</td>\n",
       "      <td>6</td>\n",
       "      <td>19</td>\n",
       "      <td>0.124</td>\n",
       "      <td>1.073</td>\n",
       "      <td>0.0</td>\n",
       "      <td>6.3</td>\n",
       "    </tr>\n",
       "    <tr>\n",
       "      <th>1</th>\n",
       "      <td>2</td>\n",
       "      <td>47</td>\n",
       "      <td>1</td>\n",
       "      <td>26</td>\n",
       "      <td>100</td>\n",
       "      <td>4.582</td>\n",
       "      <td>8.218</td>\n",
       "      <td>0.0</td>\n",
       "      <td>12.8</td>\n",
       "    </tr>\n",
       "    <tr>\n",
       "      <th>2</th>\n",
       "      <td>3</td>\n",
       "      <td>33</td>\n",
       "      <td>2</td>\n",
       "      <td>10</td>\n",
       "      <td>57</td>\n",
       "      <td>6.111</td>\n",
       "      <td>5.802</td>\n",
       "      <td>1.0</td>\n",
       "      <td>20.9</td>\n",
       "    </tr>\n",
       "    <tr>\n",
       "      <th>3</th>\n",
       "      <td>4</td>\n",
       "      <td>29</td>\n",
       "      <td>2</td>\n",
       "      <td>4</td>\n",
       "      <td>19</td>\n",
       "      <td>0.681</td>\n",
       "      <td>0.516</td>\n",
       "      <td>0.0</td>\n",
       "      <td>6.3</td>\n",
       "    </tr>\n",
       "    <tr>\n",
       "      <th>4</th>\n",
       "      <td>5</td>\n",
       "      <td>47</td>\n",
       "      <td>1</td>\n",
       "      <td>31</td>\n",
       "      <td>253</td>\n",
       "      <td>9.308</td>\n",
       "      <td>8.908</td>\n",
       "      <td>0.0</td>\n",
       "      <td>7.2</td>\n",
       "    </tr>\n",
       "    <tr>\n",
       "      <th>5</th>\n",
       "      <td>6</td>\n",
       "      <td>40</td>\n",
       "      <td>1</td>\n",
       "      <td>23</td>\n",
       "      <td>81</td>\n",
       "      <td>0.998</td>\n",
       "      <td>7.831</td>\n",
       "      <td>NaN</td>\n",
       "      <td>10.9</td>\n",
       "    </tr>\n",
       "    <tr>\n",
       "      <th>6</th>\n",
       "      <td>7</td>\n",
       "      <td>38</td>\n",
       "      <td>2</td>\n",
       "      <td>4</td>\n",
       "      <td>56</td>\n",
       "      <td>0.442</td>\n",
       "      <td>0.454</td>\n",
       "      <td>0.0</td>\n",
       "      <td>1.6</td>\n",
       "    </tr>\n",
       "    <tr>\n",
       "      <th>7</th>\n",
       "      <td>8</td>\n",
       "      <td>42</td>\n",
       "      <td>3</td>\n",
       "      <td>0</td>\n",
       "      <td>64</td>\n",
       "      <td>0.279</td>\n",
       "      <td>3.945</td>\n",
       "      <td>0.0</td>\n",
       "      <td>6.6</td>\n",
       "    </tr>\n",
       "    <tr>\n",
       "      <th>8</th>\n",
       "      <td>9</td>\n",
       "      <td>26</td>\n",
       "      <td>1</td>\n",
       "      <td>5</td>\n",
       "      <td>18</td>\n",
       "      <td>0.575</td>\n",
       "      <td>2.215</td>\n",
       "      <td>NaN</td>\n",
       "      <td>15.5</td>\n",
       "    </tr>\n",
       "    <tr>\n",
       "      <th>9</th>\n",
       "      <td>10</td>\n",
       "      <td>47</td>\n",
       "      <td>3</td>\n",
       "      <td>23</td>\n",
       "      <td>115</td>\n",
       "      <td>0.653</td>\n",
       "      <td>3.947</td>\n",
       "      <td>0.0</td>\n",
       "      <td>4.0</td>\n",
       "    </tr>\n",
       "  </tbody>\n",
       "</table>\n",
       "</div>"
      ],
      "text/plain": [
       "   Customer Id  Age  Edu  Years Employed  Income  Card Debt  Other Debt  \\\n",
       "0            1   41    2               6      19      0.124       1.073   \n",
       "1            2   47    1              26     100      4.582       8.218   \n",
       "2            3   33    2              10      57      6.111       5.802   \n",
       "3            4   29    2               4      19      0.681       0.516   \n",
       "4            5   47    1              31     253      9.308       8.908   \n",
       "5            6   40    1              23      81      0.998       7.831   \n",
       "6            7   38    2               4      56      0.442       0.454   \n",
       "7            8   42    3               0      64      0.279       3.945   \n",
       "8            9   26    1               5      18      0.575       2.215   \n",
       "9           10   47    3              23     115      0.653       3.947   \n",
       "\n",
       "   Defaulted  DebtIncomeRatio  \n",
       "0        0.0              6.3  \n",
       "1        0.0             12.8  \n",
       "2        1.0             20.9  \n",
       "3        0.0              6.3  \n",
       "4        0.0              7.2  \n",
       "5        NaN             10.9  \n",
       "6        0.0              1.6  \n",
       "7        0.0              6.6  \n",
       "8        NaN             15.5  \n",
       "9        0.0              4.0  "
      ]
     },
     "execution_count": 3,
     "metadata": {},
     "output_type": "execute_result"
    }
   ],
   "source": [
    "df.head(10)"
   ]
  },
  {
   "cell_type": "code",
   "execution_count": 4,
   "id": "f6406c77",
   "metadata": {},
   "outputs": [
    {
     "data": {
      "text/plain": [
       "0.0    517\n",
       "1.0    183\n",
       "Name: Defaulted, dtype: int64"
      ]
     },
     "execution_count": 4,
     "metadata": {},
     "output_type": "execute_result"
    }
   ],
   "source": [
    "df[\"Defaulted\"].value_counts()"
   ]
  },
  {
   "cell_type": "code",
   "execution_count": 5,
   "id": "dd8c35fb",
   "metadata": {},
   "outputs": [
    {
     "data": {
      "text/plain": [
       "0"
      ]
     },
     "execution_count": 5,
     "metadata": {},
     "output_type": "execute_result"
    }
   ],
   "source": [
    "df[\"Defaulted\"] = df[\"Defaulted\"].fillna(0)\n",
    "df[\"Defaulted\"].isna().sum()"
   ]
  },
  {
   "cell_type": "code",
   "execution_count": 6,
   "id": "ba7961fb",
   "metadata": {},
   "outputs": [],
   "source": [
    "df = df.drop([\"Customer Id\"], axis=1) # Dropping this Customer ID column as \n",
    "# all features in this column are unique and offer no analytical value."
   ]
  },
  {
   "cell_type": "code",
   "execution_count": 8,
   "id": "b27fe7c3",
   "metadata": {},
   "outputs": [],
   "source": [
    "df = df.rename(columns={\"Edu\":\"Education\"}) # This line of code corrects a feature name"
   ]
  },
  {
   "cell_type": "code",
   "execution_count": 9,
   "id": "54623973",
   "metadata": {
    "scrolled": true
   },
   "outputs": [
    {
     "name": "stdout",
     "output_type": "stream",
     "text": [
      "<class 'pandas.core.frame.DataFrame'>\n",
      "Int64Index: 850 entries, 0 to 849\n",
      "Data columns (total 8 columns):\n",
      " #   Column           Non-Null Count  Dtype  \n",
      "---  ------           --------------  -----  \n",
      " 0   Age              850 non-null    int64  \n",
      " 1   Education        850 non-null    int64  \n",
      " 2   Years Employed   850 non-null    int64  \n",
      " 3   Income           850 non-null    int64  \n",
      " 4   Card Debt        850 non-null    float64\n",
      " 5   Other Debt       850 non-null    float64\n",
      " 6   Defaulted        850 non-null    float64\n",
      " 7   DebtIncomeRatio  850 non-null    float64\n",
      "dtypes: float64(4), int64(4)\n",
      "memory usage: 59.8 KB\n"
     ]
    }
   ],
   "source": [
    "df.info()"
   ]
  },
  {
   "cell_type": "code",
   "execution_count": null,
   "id": "4eeb58e9",
   "metadata": {},
   "outputs": [],
   "source": [
    "scaler = StandardScaler() # Instantiates the Transformer\n",
    "scaled_df = scaler.fit_transform(df)"
   ]
  },
  {
   "cell_type": "code",
   "execution_count": null,
   "id": "96b54c35",
   "metadata": {},
   "outputs": [],
   "source": [
    "inertias = []\n",
    "\n",
    "for k in range(2,11):\n",
    "    kmeans = KMeans(n_clusters=k)\n",
    "    kmeans.fit(scaled_df)\n",
    "    inertias.append(kmeans.inertia_)\n",
    "    \n",
    "plt.plot(range(2,11), inertias, marker = \".\")\n",
    "plt.xlabel(\"clusters\")\n",
    "plt.ylabel(\"inertia\");"
   ]
  },
  {
   "cell_type": "code",
   "execution_count": null,
   "id": "20f84316",
   "metadata": {},
   "outputs": [],
   "source": [
    "silhouette_scores = []\n",
    "for i in range(2,11):\n",
    "    kmeans = KMeans(n_clusters = i)\n",
    "    kmeans.fit(scaled_df)\n",
    "    silhouette_scores.append(silhouette_score(scaled_df,\n",
    "kmeans.labels_))\n",
    "    \n",
    "plt.plot(range(2,11), silhouette_scores, marker = \".\")\n",
    "plt.xlabel(\"Number of Clusters\")\n",
    "plt.ylabel(\"Silhouette Score\");"
   ]
  },
  {
   "cell_type": "code",
   "execution_count": null,
   "id": "91e71bf7",
   "metadata": {},
   "outputs": [],
   "source": [
    "kmeans = KMeans(n_clusters = 2)\n",
    "kmeans.fit(scaled_df)\n",
    "silhouette_score(scaled_df, kmeans.labels_)"
   ]
  },
  {
   "cell_type": "markdown",
   "id": "6d9df2ab",
   "metadata": {},
   "source": [
    "# I will employ 3 clusters based on the results of my cluster data models. "
   ]
  },
  {
   "cell_type": "code",
   "execution_count": null,
   "id": "c28918c2",
   "metadata": {},
   "outputs": [],
   "source": [
    "kmeans3 = KMeans(n_clusters = 3)\n",
    "kmeans3.fit(scaled_df)"
   ]
  },
  {
   "cell_type": "code",
   "execution_count": null,
   "id": "02eeb7d2",
   "metadata": {},
   "outputs": [],
   "source": [
    "df[\"cluster\"] = kmeans3.labels_\n",
    "df.head()"
   ]
  },
  {
   "cell_type": "code",
   "execution_count": null,
   "id": "1e31e905",
   "metadata": {},
   "outputs": [],
   "source": [
    "cluster_groups = df.groupby(\"cluster\", as_index=False).mean()\n",
    "cluster_groups"
   ]
  },
  {
   "cell_type": "code",
   "execution_count": null,
   "id": "070455ef",
   "metadata": {
    "scrolled": true
   },
   "outputs": [],
   "source": [
    "fig, axes = plt.subplots(3,4, figsize = (20,10))\n",
    "\n",
    "axes = axes.ravel()\n",
    "\n",
    "for i, col in enumerate(cluster_groups.columns[1:]):\n",
    "    axes[i].bar(cluster_groups[\"cluster\"], cluster_groups[col])\n",
    "    axes[i].set_title(f\"Mean {col}\")"
   ]
  },
  {
   "cell_type": "markdown",
   "id": "0ad7e533",
   "metadata": {},
   "source": [
    "## In Cluster 0: I see the higher mean age and higher mean education as well as higher mean years employed along with highest mean income and mean card and other debt. This cluster appears to have the most access to capital, education and potentially health-care resources and resources in general. This group interestingly has the second lowest defaulted rate. This could mean that there is the potential for this group to be handle taking on more financially without a high rate of default. \n"
   ]
  },
  {
   "cell_type": "markdown",
   "id": "ce7a7c69",
   "metadata": {},
   "source": [
    "## In Cluster 1 I see a correlation of a lower mean age but still a strong education but a high default and debt to income ratio coupled with a disturbingly lower mean years employed. This group may be lacking the same previous generation desire to stay employed with the same employer for as long as the older cluster has. This would definitely create longer term impact coupled with the realization that this clusters has the highest defaulted mean of all 3 clusters. "
   ]
  },
  {
   "cell_type": "markdown",
   "id": "54735da4",
   "metadata": {},
   "source": [
    "## Cluster 2 has the healthiest debt profile of any of the groups. With lower mean income , but the lowest levels of card debt, other debt and defaults, this group might not be in a position to access capital and resources as easily as the other groups. This group, given their age and lower income and resources might be a group particularly in need of help and ease of access to opportunities.  "
   ]
  },
  {
   "cell_type": "markdown",
   "id": "bd5d9dd1",
   "metadata": {},
   "source": [
    "# Recommendations for the Credit Card Company Client: I would recommend Cluster 0 to target heavily primarily. They have high incomes and resources with a low default rate and can represent a strong lifetime value as a client above and beyond the other clusters. I would then recommend targeting Cluster 1. Cluster 1 has less reliable access to resources and the highest default rate. I would recommend careful risk assessment with this group and limiting company exposure due to their default rate. If Cluster 3 is targeted, they don't carry any default and overall lower levels of credit utilization than the other groups. This could make them an attractive group to market to but that depends on the main income sources of the Client enterprise. If it is heavily fee related then ignore this group, they are timely and will not default and trigger any overage related fees. "
   ]
  },
  {
   "cell_type": "code",
   "execution_count": null,
   "id": "88792fae",
   "metadata": {},
   "outputs": [],
   "source": [
    "corr = df.corr(numeric_only = True)\n",
    "corr.round(2)\n",
    "fig,ax = plt.subplots(figsize=(18,18))\n",
    "sns.heatmap(corr, cmap = \"coolwarm\", annot = True, ax=ax);"
   ]
  },
  {
   "cell_type": "markdown",
   "id": "bfe6e199",
   "metadata": {},
   "source": [
    "## Identifying any moderate or strong correlations between your target and your features and/or between one feature and another using a correlation heatmap."
   ]
  },
  {
   "cell_type": "markdown",
   "id": "f7f87955",
   "metadata": {},
   "source": [
    "## In this heatmap we see there is a moderate correlation between \"years employed\" and \"income\". This could suggest that the longer a person is employed the higher their income earning potential would be and thus could increase their attractiveness as a candidate. The warmer colors on this map denoting those moderate correlations with the cooler colors denoting the low correlations."
   ]
  }
 ],
 "metadata": {
  "kernelspec": {
   "display_name": "Python (dojo-env)",
   "language": "python",
   "name": "dojo-env"
  },
  "language_info": {
   "codemirror_mode": {
    "name": "ipython",
    "version": 3
   },
   "file_extension": ".py",
   "mimetype": "text/x-python",
   "name": "python",
   "nbconvert_exporter": "python",
   "pygments_lexer": "ipython3",
   "version": "3.9.15"
  },
  "toc": {
   "base_numbering": 1,
   "nav_menu": {},
   "number_sections": true,
   "sideBar": true,
   "skip_h1_title": false,
   "title_cell": "Table of Contents",
   "title_sidebar": "Contents",
   "toc_cell": false,
   "toc_position": {},
   "toc_section_display": true,
   "toc_window_display": false
  }
 },
 "nbformat": 4,
 "nbformat_minor": 5
}
